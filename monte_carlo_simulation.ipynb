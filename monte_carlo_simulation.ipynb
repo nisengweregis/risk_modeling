{
 "cells": [
  {
   "cell_type": "markdown",
   "metadata": {},
   "source": [
    "A Monte Carlo simulation is a model used to predict the probability of different outcomes when the intervention of random variables is present.\n",
    "\n",
    "Monte Carlo simulations help to explain the impact of risk and uncertainty in prediction and forecasting models.\n",
    "\n",
    "The basis of a Monte Carlo simulation involves assigning multiple values to an uncertain variable to achieve multiple results and then averaging the results to obtain an estimate."
   ]
  },
  {
   "cell_type": "code",
   "execution_count": 1,
   "metadata": {},
   "outputs": [],
   "source": [
    "import pandas as pd\n",
    "import numpy as np\n",
    "import seaborn as sns\n",
    "\n",
    "sns.set_style('whitegrid')"
   ]
  },
  {
   "cell_type": "code",
   "execution_count": 2,
   "metadata": {},
   "outputs": [],
   "source": [
    "avg = 1\n",
    "std_dev = .1\n",
    "num_reps = 500\n",
    "num_simulations = 1000"
   ]
  },
  {
   "cell_type": "code",
   "execution_count": 3,
   "metadata": {},
   "outputs": [],
   "source": [
    "pct_to_target = np.random.normal(avg, std_dev, num_reps).round(2)"
   ]
  },
  {
   "cell_type": "code",
   "execution_count": 5,
   "metadata": {},
   "outputs": [],
   "source": [
    "sales_target_values = [75_000, 100_000, 200_000, 300_000, 400_000, 500_000]\n",
    "sales_target_prob = [.3, .3, .2, .1, .05, .05]\n",
    "sales_target = np.random.choice(sales_target_values, num_reps, p=sales_target_prob)"
   ]
  },
  {
   "cell_type": "code",
   "execution_count": 7,
   "metadata": {},
   "outputs": [
    {
     "data": {
      "text/html": [
       "<div>\n",
       "<style scoped>\n",
       "    .dataframe tbody tr th:only-of-type {\n",
       "        vertical-align: middle;\n",
       "    }\n",
       "\n",
       "    .dataframe tbody tr th {\n",
       "        vertical-align: top;\n",
       "    }\n",
       "\n",
       "    .dataframe thead th {\n",
       "        text-align: right;\n",
       "    }\n",
       "</style>\n",
       "<table border=\"1\" class=\"dataframe\">\n",
       "  <thead>\n",
       "    <tr style=\"text-align: right;\">\n",
       "      <th></th>\n",
       "      <th>Pct_To_Target</th>\n",
       "      <th>Sales_Target</th>\n",
       "      <th>Sales</th>\n",
       "    </tr>\n",
       "  </thead>\n",
       "  <tbody>\n",
       "    <tr>\n",
       "      <th>0</th>\n",
       "      <td>1.03</td>\n",
       "      <td>100000</td>\n",
       "      <td>103000.0</td>\n",
       "    </tr>\n",
       "    <tr>\n",
       "      <th>1</th>\n",
       "      <td>0.92</td>\n",
       "      <td>100000</td>\n",
       "      <td>92000.0</td>\n",
       "    </tr>\n",
       "    <tr>\n",
       "      <th>2</th>\n",
       "      <td>0.96</td>\n",
       "      <td>300000</td>\n",
       "      <td>288000.0</td>\n",
       "    </tr>\n",
       "    <tr>\n",
       "      <th>3</th>\n",
       "      <td>0.90</td>\n",
       "      <td>100000</td>\n",
       "      <td>90000.0</td>\n",
       "    </tr>\n",
       "    <tr>\n",
       "      <th>4</th>\n",
       "      <td>0.93</td>\n",
       "      <td>100000</td>\n",
       "      <td>93000.0</td>\n",
       "    </tr>\n",
       "  </tbody>\n",
       "</table>\n",
       "</div>"
      ],
      "text/plain": [
       "   Pct_To_Target  Sales_Target     Sales\n",
       "0           1.03        100000  103000.0\n",
       "1           0.92        100000   92000.0\n",
       "2           0.96        300000  288000.0\n",
       "3           0.90        100000   90000.0\n",
       "4           0.93        100000   93000.0"
      ]
     },
     "execution_count": 7,
     "metadata": {},
     "output_type": "execute_result"
    }
   ],
   "source": [
    "df = pd.DataFrame(index=range(num_reps), data={'Pct_To_Target': pct_to_target,\n",
    "                                               'Sales_Target': sales_target})\n",
    "\n",
    "df['Sales'] = df['Pct_To_Target'] * df['Sales_Target']\n",
    "\n",
    "df.head()"
   ]
  },
  {
   "cell_type": "code",
   "execution_count": 12,
   "metadata": {},
   "outputs": [],
   "source": [
    "def calc_commission_rate(x):\n",
    "    \"\"\" Return the commission rate based on the table:\n",
    "    0-90% = 2%\n",
    "    91-99% = 3%\n",
    "    >= 100 = 4%\n",
    "    \"\"\"\n",
    "    if x <= .90:\n",
    "        return .02\n",
    "    if x <= .99:\n",
    "        return .03\n",
    "    else:\n",
    "        return .04"
   ]
  },
  {
   "cell_type": "code",
   "execution_count": 13,
   "metadata": {},
   "outputs": [],
   "source": [
    "df['Commission_Rate'] = df['Pct_To_Target'].apply(calc_commission_rate)\n",
    "df['Commission_Amount'] = df['Commission_Rate'] * df['Sales']"
   ]
  },
  {
   "cell_type": "code",
   "execution_count": 14,
   "metadata": {},
   "outputs": [
    {
     "data": {
      "text/html": [
       "<div>\n",
       "<style scoped>\n",
       "    .dataframe tbody tr th:only-of-type {\n",
       "        vertical-align: middle;\n",
       "    }\n",
       "\n",
       "    .dataframe tbody tr th {\n",
       "        vertical-align: top;\n",
       "    }\n",
       "\n",
       "    .dataframe thead th {\n",
       "        text-align: right;\n",
       "    }\n",
       "</style>\n",
       "<table border=\"1\" class=\"dataframe\">\n",
       "  <thead>\n",
       "    <tr style=\"text-align: right;\">\n",
       "      <th></th>\n",
       "      <th>Pct_To_Target</th>\n",
       "      <th>Sales_Target</th>\n",
       "      <th>Sales</th>\n",
       "      <th>Commission_Rate</th>\n",
       "      <th>Commission_Amount</th>\n",
       "    </tr>\n",
       "  </thead>\n",
       "  <tbody>\n",
       "    <tr>\n",
       "      <th>0</th>\n",
       "      <td>1.03</td>\n",
       "      <td>100000</td>\n",
       "      <td>103000.0</td>\n",
       "      <td>0.04</td>\n",
       "      <td>4120.0</td>\n",
       "    </tr>\n",
       "    <tr>\n",
       "      <th>1</th>\n",
       "      <td>0.92</td>\n",
       "      <td>100000</td>\n",
       "      <td>92000.0</td>\n",
       "      <td>0.03</td>\n",
       "      <td>2760.0</td>\n",
       "    </tr>\n",
       "    <tr>\n",
       "      <th>2</th>\n",
       "      <td>0.96</td>\n",
       "      <td>300000</td>\n",
       "      <td>288000.0</td>\n",
       "      <td>0.03</td>\n",
       "      <td>8640.0</td>\n",
       "    </tr>\n",
       "    <tr>\n",
       "      <th>3</th>\n",
       "      <td>0.90</td>\n",
       "      <td>100000</td>\n",
       "      <td>90000.0</td>\n",
       "      <td>0.02</td>\n",
       "      <td>1800.0</td>\n",
       "    </tr>\n",
       "    <tr>\n",
       "      <th>4</th>\n",
       "      <td>0.93</td>\n",
       "      <td>100000</td>\n",
       "      <td>93000.0</td>\n",
       "      <td>0.03</td>\n",
       "      <td>2790.0</td>\n",
       "    </tr>\n",
       "  </tbody>\n",
       "</table>\n",
       "</div>"
      ],
      "text/plain": [
       "   Pct_To_Target  Sales_Target     Sales  Commission_Rate  Commission_Amount\n",
       "0           1.03        100000  103000.0             0.04             4120.0\n",
       "1           0.92        100000   92000.0             0.03             2760.0\n",
       "2           0.96        300000  288000.0             0.03             8640.0\n",
       "3           0.90        100000   90000.0             0.02             1800.0\n",
       "4           0.93        100000   93000.0             0.03             2790.0"
      ]
     },
     "execution_count": 14,
     "metadata": {},
     "output_type": "execute_result"
    }
   ],
   "source": [
    "df.head()"
   ]
  },
  {
   "cell_type": "code",
   "execution_count": 15,
   "metadata": {},
   "outputs": [],
   "source": [
    "# Define a list to keep all the results from each simulation that we want to analyze\n",
    "all_stats = []\n",
    "\n",
    "# Loop through many simulations\n",
    "for i in range(num_simulations):\n",
    "\n",
    "    # Choose random inputs for the sales targets and percent to target\n",
    "    sales_target = np.random.choice(sales_target_values, num_reps, p=sales_target_prob)\n",
    "    pct_to_target = np.random.normal(avg, std_dev, num_reps).round(2)\n",
    "\n",
    "    # Build the dataframe based on the inputs and number of reps\n",
    "    df = pd.DataFrame(index=range(num_reps), data={'Pct_To_Target': pct_to_target,\n",
    "                                                   'Sales_Target': sales_target})\n",
    "\n",
    "    # Back into the sales number using the percent to target rate\n",
    "    df['Sales'] = df['Pct_To_Target'] * df['Sales_Target']\n",
    "\n",
    "    # Determine the commissions rate and calculate it\n",
    "    df['Commission_Rate'] = df['Pct_To_Target'].apply(calc_commission_rate)\n",
    "    df['Commission_Amount'] = df['Commission_Rate'] * df['Sales']\n",
    "\n",
    "    # We want to track sales,commission amounts and sales targets over all the simulations\n",
    "    all_stats.append([df['Sales'].sum().round(0),\n",
    "                      df['Commission_Amount'].sum().round(0),\n",
    "                      df['Sales_Target'].sum().round(0)])"
   ]
  },
  {
   "cell_type": "code",
   "execution_count": 17,
   "metadata": {},
   "outputs": [],
   "source": [
    "results_df = pd.DataFrame.from_records(all_stats, columns=['Sales',\n",
    "                                                           'Commission_Amount',\n",
    "                                                           'Sales_Target'])"
   ]
  },
  {
   "cell_type": "code",
   "execution_count": 29,
   "metadata": {},
   "outputs": [
    {
     "data": {
      "text/html": [
       "<style  type=\"text/css\" >\n",
       "</style><table id=\"T_575bc57a_c614_11ec_b83c_001cbfe69c7b\" ><thead>    <tr>        <th class=\"blank level0\" ></th>        <th class=\"col_heading level0 col0\" >Sales</th>        <th class=\"col_heading level0 col1\" >Commission_Amount</th>        <th class=\"col_heading level0 col2\" >Sales_Target</th>    </tr></thead><tbody>\n",
       "                <tr>\n",
       "                        <th id=\"T_575bc57a_c614_11ec_b83c_001cbfe69c7blevel0_row0\" class=\"row_heading level0 row0\" >count</th>\n",
       "                        <td id=\"T_575bc57a_c614_11ec_b83c_001cbfe69c7brow0_col0\" class=\"data row0 col0\" >1,000.0</td>\n",
       "                        <td id=\"T_575bc57a_c614_11ec_b83c_001cbfe69c7brow0_col1\" class=\"data row0 col1\" >1,000.0</td>\n",
       "                        <td id=\"T_575bc57a_c614_11ec_b83c_001cbfe69c7brow0_col2\" class=\"data row0 col2\" >1,000.0</td>\n",
       "            </tr>\n",
       "            <tr>\n",
       "                        <th id=\"T_575bc57a_c614_11ec_b83c_001cbfe69c7blevel0_row1\" class=\"row_heading level0 row1\" >mean</th>\n",
       "                        <td id=\"T_575bc57a_c614_11ec_b83c_001cbfe69c7brow1_col0\" class=\"data row1 col0\" >83,753,728.25</td>\n",
       "                        <td id=\"T_575bc57a_c614_11ec_b83c_001cbfe69c7brow1_col1\" class=\"data row1 col1\" >2,860,228.68</td>\n",
       "                        <td id=\"T_575bc57a_c614_11ec_b83c_001cbfe69c7brow1_col2\" class=\"data row1 col2\" >83,739,600.0</td>\n",
       "            </tr>\n",
       "            <tr>\n",
       "                        <th id=\"T_575bc57a_c614_11ec_b83c_001cbfe69c7blevel0_row2\" class=\"row_heading level0 row2\" >std</th>\n",
       "                        <td id=\"T_575bc57a_c614_11ec_b83c_001cbfe69c7brow2_col0\" class=\"data row2 col0\" >2,692,891.32</td>\n",
       "                        <td id=\"T_575bc57a_c614_11ec_b83c_001cbfe69c7brow2_col1\" class=\"data row2 col1\" >100,456.56</td>\n",
       "                        <td id=\"T_575bc57a_c614_11ec_b83c_001cbfe69c7brow2_col2\" class=\"data row2 col2\" >2,687,560.43</td>\n",
       "            </tr>\n",
       "            <tr>\n",
       "                        <th id=\"T_575bc57a_c614_11ec_b83c_001cbfe69c7blevel0_row3\" class=\"row_heading level0 row3\" >min</th>\n",
       "                        <td id=\"T_575bc57a_c614_11ec_b83c_001cbfe69c7brow3_col0\" class=\"data row3 col0\" >76,297,500.0</td>\n",
       "                        <td id=\"T_575bc57a_c614_11ec_b83c_001cbfe69c7brow3_col1\" class=\"data row3 col1\" >2,540,852.0</td>\n",
       "                        <td id=\"T_575bc57a_c614_11ec_b83c_001cbfe69c7brow3_col2\" class=\"data row3 col2\" >76,400,000.0</td>\n",
       "            </tr>\n",
       "            <tr>\n",
       "                        <th id=\"T_575bc57a_c614_11ec_b83c_001cbfe69c7blevel0_row4\" class=\"row_heading level0 row4\" >25%</th>\n",
       "                        <td id=\"T_575bc57a_c614_11ec_b83c_001cbfe69c7brow4_col0\" class=\"data row4 col0\" >81,833,500.0</td>\n",
       "                        <td id=\"T_575bc57a_c614_11ec_b83c_001cbfe69c7brow4_col1\" class=\"data row4 col1\" >2,789,403.5</td>\n",
       "                        <td id=\"T_575bc57a_c614_11ec_b83c_001cbfe69c7brow4_col2\" class=\"data row4 col2\" >81,825,000.0</td>\n",
       "            </tr>\n",
       "            <tr>\n",
       "                        <th id=\"T_575bc57a_c614_11ec_b83c_001cbfe69c7blevel0_row5\" class=\"row_heading level0 row5\" >50%</th>\n",
       "                        <td id=\"T_575bc57a_c614_11ec_b83c_001cbfe69c7brow5_col0\" class=\"data row5 col0\" >83,723,125.0</td>\n",
       "                        <td id=\"T_575bc57a_c614_11ec_b83c_001cbfe69c7brow5_col1\" class=\"data row5 col1\" >2,858,515.0</td>\n",
       "                        <td id=\"T_575bc57a_c614_11ec_b83c_001cbfe69c7brow5_col2\" class=\"data row5 col2\" >83,750,000.0</td>\n",
       "            </tr>\n",
       "            <tr>\n",
       "                        <th id=\"T_575bc57a_c614_11ec_b83c_001cbfe69c7blevel0_row6\" class=\"row_heading level0 row6\" >75%</th>\n",
       "                        <td id=\"T_575bc57a_c614_11ec_b83c_001cbfe69c7brow6_col0\" class=\"data row6 col0\" >85,462,687.5</td>\n",
       "                        <td id=\"T_575bc57a_c614_11ec_b83c_001cbfe69c7brow6_col1\" class=\"data row6 col1\" >2,931,596.5</td>\n",
       "                        <td id=\"T_575bc57a_c614_11ec_b83c_001cbfe69c7brow6_col2\" class=\"data row6 col2\" >85,400,000.0</td>\n",
       "            </tr>\n",
       "            <tr>\n",
       "                        <th id=\"T_575bc57a_c614_11ec_b83c_001cbfe69c7blevel0_row7\" class=\"row_heading level0 row7\" >max</th>\n",
       "                        <td id=\"T_575bc57a_c614_11ec_b83c_001cbfe69c7brow7_col0\" class=\"data row7 col0\" >91,882,500.0</td>\n",
       "                        <td id=\"T_575bc57a_c614_11ec_b83c_001cbfe69c7brow7_col1\" class=\"data row7 col1\" >3,200,952.0</td>\n",
       "                        <td id=\"T_575bc57a_c614_11ec_b83c_001cbfe69c7brow7_col2\" class=\"data row7 col2\" >91,350,000.0</td>\n",
       "            </tr>\n",
       "    </tbody></table>"
      ],
      "text/plain": [
       "<pandas.io.formats.style.Styler at 0x294b44c2608>"
      ]
     },
     "execution_count": 29,
     "metadata": {},
     "output_type": "execute_result"
    }
   ],
   "source": [
    "results_df.describe().round(2).style.format('{:,}')"
   ]
  },
  {
   "cell_type": "code",
   "execution_count": 30,
   "metadata": {},
   "outputs": [
    {
     "data": {
      "text/html": [
       "<div>\n",
       "<style scoped>\n",
       "    .dataframe tbody tr th:only-of-type {\n",
       "        vertical-align: middle;\n",
       "    }\n",
       "\n",
       "    .dataframe tbody tr th {\n",
       "        vertical-align: top;\n",
       "    }\n",
       "\n",
       "    .dataframe thead th {\n",
       "        text-align: right;\n",
       "    }\n",
       "</style>\n",
       "<table border=\"1\" class=\"dataframe\">\n",
       "  <thead>\n",
       "    <tr style=\"text-align: right;\">\n",
       "      <th></th>\n",
       "      <th>Sales</th>\n",
       "      <th>Commission_Amount</th>\n",
       "      <th>Sales_Target</th>\n",
       "    </tr>\n",
       "  </thead>\n",
       "  <tbody>\n",
       "    <tr>\n",
       "      <th>count</th>\n",
       "      <td>1000.00</td>\n",
       "      <td>1000.00</td>\n",
       "      <td>1000.00</td>\n",
       "    </tr>\n",
       "    <tr>\n",
       "      <th>mean</th>\n",
       "      <td>83753728.25</td>\n",
       "      <td>2860228.68</td>\n",
       "      <td>83739600.00</td>\n",
       "    </tr>\n",
       "    <tr>\n",
       "      <th>std</th>\n",
       "      <td>2692891.32</td>\n",
       "      <td>100456.56</td>\n",
       "      <td>2687560.43</td>\n",
       "    </tr>\n",
       "    <tr>\n",
       "      <th>min</th>\n",
       "      <td>76297500.00</td>\n",
       "      <td>2540852.00</td>\n",
       "      <td>76400000.00</td>\n",
       "    </tr>\n",
       "    <tr>\n",
       "      <th>25%</th>\n",
       "      <td>81833500.00</td>\n",
       "      <td>2789403.50</td>\n",
       "      <td>81825000.00</td>\n",
       "    </tr>\n",
       "    <tr>\n",
       "      <th>50%</th>\n",
       "      <td>83723125.00</td>\n",
       "      <td>2858515.00</td>\n",
       "      <td>83750000.00</td>\n",
       "    </tr>\n",
       "    <tr>\n",
       "      <th>75%</th>\n",
       "      <td>85462687.50</td>\n",
       "      <td>2931596.50</td>\n",
       "      <td>85400000.00</td>\n",
       "    </tr>\n",
       "    <tr>\n",
       "      <th>max</th>\n",
       "      <td>91882500.00</td>\n",
       "      <td>3200952.00</td>\n",
       "      <td>91350000.00</td>\n",
       "    </tr>\n",
       "  </tbody>\n",
       "</table>\n",
       "</div>"
      ],
      "text/plain": [
       "             Sales  Commission_Amount  Sales_Target\n",
       "count      1000.00            1000.00       1000.00\n",
       "mean   83753728.25         2860228.68   83739600.00\n",
       "std     2692891.32          100456.56    2687560.43\n",
       "min    76297500.00         2540852.00   76400000.00\n",
       "25%    81833500.00         2789403.50   81825000.00\n",
       "50%    83723125.00         2858515.00   83750000.00\n",
       "75%    85462687.50         2931596.50   85400000.00\n",
       "max    91882500.00         3200952.00   91350000.00"
      ]
     },
     "execution_count": 30,
     "metadata": {},
     "output_type": "execute_result"
    }
   ],
   "source": [
    "results_df.describe().round(2)"
   ]
  },
  {
   "cell_type": "code",
   "execution_count": null,
   "metadata": {},
   "outputs": [],
   "source": []
  }
 ],
 "metadata": {
  "kernelspec": {
   "display_name": "Python 3",
   "language": "python",
   "name": "python3"
  },
  "language_info": {
   "codemirror_mode": {
    "name": "ipython",
    "version": 3
   },
   "file_extension": ".py",
   "mimetype": "text/x-python",
   "name": "python",
   "nbconvert_exporter": "python",
   "pygments_lexer": "ipython3",
   "version": "3.7.9"
  }
 },
 "nbformat": 4,
 "nbformat_minor": 4
}
