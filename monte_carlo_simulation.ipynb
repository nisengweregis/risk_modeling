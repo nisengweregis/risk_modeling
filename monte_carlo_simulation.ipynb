{
 "cells": [
  {
   "cell_type": "markdown",
   "metadata": {},
   "source": [
    "A Monte Carlo simulation is a model used to predict the probability of different outcomes when the intervention of random variables is present.\n",
    "\n",
    "Monte Carlo simulations help to explain the impact of risk and uncertainty in prediction and forecasting models.\n",
    "\n",
    "The basis of a Monte Carlo simulation involves assigning multiple values to an uncertain variable to achieve multiple results and then averaging the results to obtain an estimate."
   ]
  },
  {
   "cell_type": "markdown",
   "metadata": {},
   "source": [
    "We start by importing the libraries."
   ]
  },
  {
   "cell_type": "markdown",
   "metadata": {},
   "source": [
    "### Predicting commissions example"
   ]
  },
  {
   "cell_type": "markdown",
   "metadata": {},
   "source": [
    "Example drawn from this source:https://pbpython.com/monte-carlo.html \n",
    "\n",
    "In the example below, we predict how much money we should budget for sales commissions for the next year. This problem is useful for modeling because we have a defined formula for calculating commissions and we likely have some experience with prior years’ commissions payments.\n",
    "\n",
    "This problem is also important from a business perspective. Sales commissions can be a large selling expense and it is important to plan appropriately for this expense. In addition, the use of a Monte Carlo simulation is a relatively simple improvement that can be made to augment what is normally an unsophisticated estimation process."
   ]
  },
  {
   "cell_type": "code",
   "execution_count": 1,
   "metadata": {},
   "outputs": [],
   "source": [
    "import pandas as pd\n",
    "import numpy as np\n",
    "import seaborn as sns\n",
    "\n",
    "sns.set_style('whitegrid')"
   ]
  },
  {
   "cell_type": "markdown",
   "metadata": {},
   "source": [
    "Let's assume that our historical percent to target performance is centered around a a mean of 100% and standard deviation of 10%. We can define those variables as well as the number of sales reps and simulations to model."
   ]
  },
  {
   "cell_type": "code",
   "execution_count": 2,
   "metadata": {},
   "outputs": [],
   "source": [
    "avg = 1\n",
    "std_dev = .1\n",
    "num_reps = 500\n",
    "num_simulations = 1000"
   ]
  },
  {
   "cell_type": "markdown",
   "metadata": {},
   "source": [
    "Using numpy, we can generate a list of percentages that can replicate our historical normal distribution."
   ]
  },
  {
   "cell_type": "code",
   "execution_count": 3,
   "metadata": {},
   "outputs": [],
   "source": [
    "pct_to_target = np.random.normal(avg, std_dev, num_reps).round(2)"
   ]
  },
  {
   "cell_type": "markdown",
   "metadata": {},
   "source": [
    "We can now create variables for sales target and group them into buckets."
   ]
  },
  {
   "cell_type": "code",
   "execution_count": 4,
   "metadata": {},
   "outputs": [],
   "source": [
    "sales_target_values = [75_000, 100_000, 200_000, 300_000, 400_000, 500_000]\n",
    "sales_target_prob = [.3, .3, .2, .1, .05, .05]\n",
    "sales_target = np.random.choice(sales_target_values, num_reps, p=sales_target_prob)"
   ]
  },
  {
   "cell_type": "markdown",
   "metadata": {},
   "source": [
    "We now turn the data into a dataframe."
   ]
  },
  {
   "cell_type": "code",
   "execution_count": 5,
   "metadata": {},
   "outputs": [
    {
     "data": {
      "text/html": [
       "<div>\n",
       "<style scoped>\n",
       "    .dataframe tbody tr th:only-of-type {\n",
       "        vertical-align: middle;\n",
       "    }\n",
       "\n",
       "    .dataframe tbody tr th {\n",
       "        vertical-align: top;\n",
       "    }\n",
       "\n",
       "    .dataframe thead th {\n",
       "        text-align: right;\n",
       "    }\n",
       "</style>\n",
       "<table border=\"1\" class=\"dataframe\">\n",
       "  <thead>\n",
       "    <tr style=\"text-align: right;\">\n",
       "      <th></th>\n",
       "      <th>Pct_To_Target</th>\n",
       "      <th>Sales_Target</th>\n",
       "      <th>Sales</th>\n",
       "    </tr>\n",
       "  </thead>\n",
       "  <tbody>\n",
       "    <tr>\n",
       "      <th>0</th>\n",
       "      <td>0.95</td>\n",
       "      <td>200000</td>\n",
       "      <td>190000.0</td>\n",
       "    </tr>\n",
       "    <tr>\n",
       "      <th>1</th>\n",
       "      <td>0.94</td>\n",
       "      <td>75000</td>\n",
       "      <td>70500.0</td>\n",
       "    </tr>\n",
       "    <tr>\n",
       "      <th>2</th>\n",
       "      <td>0.92</td>\n",
       "      <td>100000</td>\n",
       "      <td>92000.0</td>\n",
       "    </tr>\n",
       "    <tr>\n",
       "      <th>3</th>\n",
       "      <td>0.89</td>\n",
       "      <td>300000</td>\n",
       "      <td>267000.0</td>\n",
       "    </tr>\n",
       "    <tr>\n",
       "      <th>4</th>\n",
       "      <td>1.05</td>\n",
       "      <td>75000</td>\n",
       "      <td>78750.0</td>\n",
       "    </tr>\n",
       "  </tbody>\n",
       "</table>\n",
       "</div>"
      ],
      "text/plain": [
       "   Pct_To_Target  Sales_Target     Sales\n",
       "0           0.95        200000  190000.0\n",
       "1           0.94         75000   70500.0\n",
       "2           0.92        100000   92000.0\n",
       "3           0.89        300000  267000.0\n",
       "4           1.05         75000   78750.0"
      ]
     },
     "execution_count": 5,
     "metadata": {},
     "output_type": "execute_result"
    }
   ],
   "source": [
    "df = pd.DataFrame(index=range(num_reps), data={'Pct_To_Target': pct_to_target,\n",
    "                                               'Sales_Target': sales_target})\n",
    "\n",
    "df['Sales'] = df['Pct_To_Target'] * df['Sales_Target']\n",
    "\n",
    "df.head()"
   ]
  },
  {
   "cell_type": "markdown",
   "metadata": {},
   "source": [
    "We define the function to calculate the commission rate as follows:"
   ]
  },
  {
   "cell_type": "code",
   "execution_count": 6,
   "metadata": {},
   "outputs": [],
   "source": [
    "def calc_commission_rate(x):\n",
    "    \"\"\" Return the commission rate based on the table:\n",
    "    0-90% = 2%\n",
    "    91-99% = 3%\n",
    "    >= 100 = 4%\n",
    "    \"\"\"\n",
    "    if x <= .90:\n",
    "        return .02\n",
    "    if x <= .99:\n",
    "        return .03\n",
    "    else:\n",
    "        return .04"
   ]
  },
  {
   "cell_type": "markdown",
   "metadata": {},
   "source": [
    "Now we can create the commission rate."
   ]
  },
  {
   "cell_type": "code",
   "execution_count": 7,
   "metadata": {},
   "outputs": [
    {
     "data": {
      "text/html": [
       "<div>\n",
       "<style scoped>\n",
       "    .dataframe tbody tr th:only-of-type {\n",
       "        vertical-align: middle;\n",
       "    }\n",
       "\n",
       "    .dataframe tbody tr th {\n",
       "        vertical-align: top;\n",
       "    }\n",
       "\n",
       "    .dataframe thead th {\n",
       "        text-align: right;\n",
       "    }\n",
       "</style>\n",
       "<table border=\"1\" class=\"dataframe\">\n",
       "  <thead>\n",
       "    <tr style=\"text-align: right;\">\n",
       "      <th></th>\n",
       "      <th>Pct_To_Target</th>\n",
       "      <th>Sales_Target</th>\n",
       "      <th>Sales</th>\n",
       "      <th>Commission_Rate</th>\n",
       "      <th>Commission_Amount</th>\n",
       "    </tr>\n",
       "  </thead>\n",
       "  <tbody>\n",
       "    <tr>\n",
       "      <th>0</th>\n",
       "      <td>0.95</td>\n",
       "      <td>200000</td>\n",
       "      <td>190000.0</td>\n",
       "      <td>0.03</td>\n",
       "      <td>5700.0</td>\n",
       "    </tr>\n",
       "    <tr>\n",
       "      <th>1</th>\n",
       "      <td>0.94</td>\n",
       "      <td>75000</td>\n",
       "      <td>70500.0</td>\n",
       "      <td>0.03</td>\n",
       "      <td>2115.0</td>\n",
       "    </tr>\n",
       "    <tr>\n",
       "      <th>2</th>\n",
       "      <td>0.92</td>\n",
       "      <td>100000</td>\n",
       "      <td>92000.0</td>\n",
       "      <td>0.03</td>\n",
       "      <td>2760.0</td>\n",
       "    </tr>\n",
       "    <tr>\n",
       "      <th>3</th>\n",
       "      <td>0.89</td>\n",
       "      <td>300000</td>\n",
       "      <td>267000.0</td>\n",
       "      <td>0.02</td>\n",
       "      <td>5340.0</td>\n",
       "    </tr>\n",
       "    <tr>\n",
       "      <th>4</th>\n",
       "      <td>1.05</td>\n",
       "      <td>75000</td>\n",
       "      <td>78750.0</td>\n",
       "      <td>0.04</td>\n",
       "      <td>3150.0</td>\n",
       "    </tr>\n",
       "  </tbody>\n",
       "</table>\n",
       "</div>"
      ],
      "text/plain": [
       "   Pct_To_Target  Sales_Target     Sales  Commission_Rate  Commission_Amount\n",
       "0           0.95        200000  190000.0             0.03             5700.0\n",
       "1           0.94         75000   70500.0             0.03             2115.0\n",
       "2           0.92        100000   92000.0             0.03             2760.0\n",
       "3           0.89        300000  267000.0             0.02             5340.0\n",
       "4           1.05         75000   78750.0             0.04             3150.0"
      ]
     },
     "execution_count": 7,
     "metadata": {},
     "output_type": "execute_result"
    }
   ],
   "source": [
    "df['Commission_Rate'] = df['Pct_To_Target'].apply(calc_commission_rate)\n",
    "df['Commission_Amount'] = df['Commission_Rate'] * df['Sales']\n",
    "df.head()"
   ]
  },
  {
   "cell_type": "markdown",
   "metadata": {},
   "source": [
    "Let's loop through the total number of iterations (1000)."
   ]
  },
  {
   "cell_type": "code",
   "execution_count": 8,
   "metadata": {},
   "outputs": [],
   "source": [
    "# Define a list to keep all the results from each simulation that we want to analyze\n",
    "all_stats = []\n",
    "\n",
    "# Loop through many simulations\n",
    "for i in range(num_simulations):\n",
    "\n",
    "    # Choose random inputs for the sales targets and percent to target\n",
    "    sales_target = np.random.choice(sales_target_values, num_reps, p=sales_target_prob)\n",
    "    pct_to_target = np.random.normal(avg, std_dev, num_reps).round(2)\n",
    "\n",
    "    # Build the dataframe based on the inputs and number of reps\n",
    "    df = pd.DataFrame(index=range(num_reps), data={'Pct_To_Target': pct_to_target,\n",
    "                                                   'Sales_Target': sales_target})\n",
    "\n",
    "    # Back into the sales number using the percent to target rate\n",
    "    df['Sales'] = df['Pct_To_Target'] * df['Sales_Target']\n",
    "\n",
    "    # Determine the commissions rate and calculate it\n",
    "    df['Commission_Rate'] = df['Pct_To_Target'].apply(calc_commission_rate)\n",
    "    df['Commission_Amount'] = df['Commission_Rate'] * df['Sales']\n",
    "\n",
    "    # We want to track sales,commission amounts and sales targets over all the simulations\n",
    "    all_stats.append([df['Sales'].sum().round(0),\n",
    "                      df['Commission_Amount'].sum().round(0),\n",
    "                      df['Sales_Target'].sum().round(0)])"
   ]
  },
  {
   "cell_type": "markdown",
   "metadata": {},
   "source": [
    "Checking the results."
   ]
  },
  {
   "cell_type": "code",
   "execution_count": 9,
   "metadata": {},
   "outputs": [],
   "source": [
    "results_df = pd.DataFrame.from_records(all_stats, \n",
    "                                       columns=['Sales',\n",
    "                                                'Commission_Amount',\n",
    "                                                'Sales_Target'])"
   ]
  },
  {
   "cell_type": "code",
   "execution_count": 10,
   "metadata": {},
   "outputs": [
    {
     "data": {
      "text/html": [
       "<style  type=\"text/css\" >\n",
       "</style><table id=\"T_94a45a1c_ca7b_11ec_b943_8cec4b2f3009\" ><thead>    <tr>        <th class=\"blank level0\" ></th>        <th class=\"col_heading level0 col0\" >Sales</th>        <th class=\"col_heading level0 col1\" >Commission_Amount</th>        <th class=\"col_heading level0 col2\" >Sales_Target</th>    </tr></thead><tbody>\n",
       "                <tr>\n",
       "                        <th id=\"T_94a45a1c_ca7b_11ec_b943_8cec4b2f3009level0_row0\" class=\"row_heading level0 row0\" >count</th>\n",
       "                        <td id=\"T_94a45a1c_ca7b_11ec_b943_8cec4b2f3009row0_col0\" class=\"data row0 col0\" >1,000.0</td>\n",
       "                        <td id=\"T_94a45a1c_ca7b_11ec_b943_8cec4b2f3009row0_col1\" class=\"data row0 col1\" >1,000.0</td>\n",
       "                        <td id=\"T_94a45a1c_ca7b_11ec_b943_8cec4b2f3009row0_col2\" class=\"data row0 col2\" >1,000.0</td>\n",
       "            </tr>\n",
       "            <tr>\n",
       "                        <th id=\"T_94a45a1c_ca7b_11ec_b943_8cec4b2f3009level0_row1\" class=\"row_heading level0 row1\" >mean</th>\n",
       "                        <td id=\"T_94a45a1c_ca7b_11ec_b943_8cec4b2f3009row1_col0\" class=\"data row1 col0\" >83,809,651.25</td>\n",
       "                        <td id=\"T_94a45a1c_ca7b_11ec_b943_8cec4b2f3009row1_col1\" class=\"data row1 col1\" >2,861,709.79</td>\n",
       "                        <td id=\"T_94a45a1c_ca7b_11ec_b943_8cec4b2f3009row1_col2\" class=\"data row1 col2\" >83,800,875.0</td>\n",
       "            </tr>\n",
       "            <tr>\n",
       "                        <th id=\"T_94a45a1c_ca7b_11ec_b943_8cec4b2f3009level0_row2\" class=\"row_heading level0 row2\" >std</th>\n",
       "                        <td id=\"T_94a45a1c_ca7b_11ec_b943_8cec4b2f3009row2_col0\" class=\"data row2 col0\" >2,663,403.65</td>\n",
       "                        <td id=\"T_94a45a1c_ca7b_11ec_b943_8cec4b2f3009row2_col1\" class=\"data row2 col1\" >100,852.14</td>\n",
       "                        <td id=\"T_94a45a1c_ca7b_11ec_b943_8cec4b2f3009row2_col2\" class=\"data row2 col2\" >2,624,350.08</td>\n",
       "            </tr>\n",
       "            <tr>\n",
       "                        <th id=\"T_94a45a1c_ca7b_11ec_b943_8cec4b2f3009level0_row3\" class=\"row_heading level0 row3\" >min</th>\n",
       "                        <td id=\"T_94a45a1c_ca7b_11ec_b943_8cec4b2f3009row3_col0\" class=\"data row3 col0\" >75,713,750.0</td>\n",
       "                        <td id=\"T_94a45a1c_ca7b_11ec_b943_8cec4b2f3009row3_col1\" class=\"data row3 col1\" >2,559,232.0</td>\n",
       "                        <td id=\"T_94a45a1c_ca7b_11ec_b943_8cec4b2f3009row3_col2\" class=\"data row3 col2\" >75,475,000.0</td>\n",
       "            </tr>\n",
       "            <tr>\n",
       "                        <th id=\"T_94a45a1c_ca7b_11ec_b943_8cec4b2f3009level0_row4\" class=\"row_heading level0 row4\" >25%</th>\n",
       "                        <td id=\"T_94a45a1c_ca7b_11ec_b943_8cec4b2f3009row4_col0\" class=\"data row4 col0\" >82,148,250.0</td>\n",
       "                        <td id=\"T_94a45a1c_ca7b_11ec_b943_8cec4b2f3009row4_col1\" class=\"data row4 col1\" >2,796,621.5</td>\n",
       "                        <td id=\"T_94a45a1c_ca7b_11ec_b943_8cec4b2f3009row4_col2\" class=\"data row4 col2\" >82,125,000.0</td>\n",
       "            </tr>\n",
       "            <tr>\n",
       "                        <th id=\"T_94a45a1c_ca7b_11ec_b943_8cec4b2f3009level0_row5\" class=\"row_heading level0 row5\" >50%</th>\n",
       "                        <td id=\"T_94a45a1c_ca7b_11ec_b943_8cec4b2f3009row5_col0\" class=\"data row5 col0\" >83,773,500.0</td>\n",
       "                        <td id=\"T_94a45a1c_ca7b_11ec_b943_8cec4b2f3009row5_col1\" class=\"data row5 col1\" >2,863,180.0</td>\n",
       "                        <td id=\"T_94a45a1c_ca7b_11ec_b943_8cec4b2f3009row5_col2\" class=\"data row5 col2\" >83,775,000.0</td>\n",
       "            </tr>\n",
       "            <tr>\n",
       "                        <th id=\"T_94a45a1c_ca7b_11ec_b943_8cec4b2f3009level0_row6\" class=\"row_heading level0 row6\" >75%</th>\n",
       "                        <td id=\"T_94a45a1c_ca7b_11ec_b943_8cec4b2f3009row6_col0\" class=\"data row6 col0\" >85,599,750.0</td>\n",
       "                        <td id=\"T_94a45a1c_ca7b_11ec_b943_8cec4b2f3009row6_col1\" class=\"data row6 col1\" >2,927,635.5</td>\n",
       "                        <td id=\"T_94a45a1c_ca7b_11ec_b943_8cec4b2f3009row6_col2\" class=\"data row6 col2\" >85,600,000.0</td>\n",
       "            </tr>\n",
       "            <tr>\n",
       "                        <th id=\"T_94a45a1c_ca7b_11ec_b943_8cec4b2f3009level0_row7\" class=\"row_heading level0 row7\" >max</th>\n",
       "                        <td id=\"T_94a45a1c_ca7b_11ec_b943_8cec4b2f3009row7_col0\" class=\"data row7 col0\" >92,255,500.0</td>\n",
       "                        <td id=\"T_94a45a1c_ca7b_11ec_b943_8cec4b2f3009row7_col1\" class=\"data row7 col1\" >3,201,265.0</td>\n",
       "                        <td id=\"T_94a45a1c_ca7b_11ec_b943_8cec4b2f3009row7_col2\" class=\"data row7 col2\" >91,825,000.0</td>\n",
       "            </tr>\n",
       "    </tbody></table>"
      ],
      "text/plain": [
       "<pandas.io.formats.style.Styler at 0x237122dcf88>"
      ]
     },
     "execution_count": 10,
     "metadata": {},
     "output_type": "execute_result"
    }
   ],
   "source": [
    "results_df.describe().round(2).style.format('{:,}')"
   ]
  },
  {
   "cell_type": "code",
   "execution_count": 11,
   "metadata": {},
   "outputs": [],
   "source": [
    "#results_df.describe().round(2)"
   ]
  },
  {
   "cell_type": "markdown",
   "metadata": {},
   "source": [
    "Other examples. Mainly drawn from this source: https://pub.towardsai.net/monte-carlo-simulation-an-in-depth-tutorial-with-python-bcf6eb7856c8#8cf2"
   ]
  },
  {
   "cell_type": "markdown",
   "metadata": {},
   "source": [
    "### The Coin Flip Example"
   ]
  },
  {
   "cell_type": "code",
   "execution_count": 12,
   "metadata": {},
   "outputs": [
    {
     "name": "stdout",
     "output_type": "stream",
     "text": [
      "Final value: 0.5\n"
     ]
    },
    {
     "data": {
      "image/png": "[encoded data removed]",
      "text/plain": [
       "<Figure size 432x288 with 1 Axes>"
      ]
     },
     "metadata": {},
     "output_type": "display_data"
    }
   ],
   "source": [
    "import random\n",
    "import numpy as np\n",
    "import matplotlib.pyplot as plt\n",
    "\n",
    "\n",
    "#Coin flip\n",
    "#0 --> Heads\n",
    "#1 --> Tails\n",
    "\n",
    "def coin_flip():\n",
    "    return random.randint(0,1)\n",
    "\n",
    "#coin_flip()\n",
    "\n",
    "\n",
    "#Main function\n",
    "list1 = []\n",
    "def monte_carlo(n):\n",
    "    results = 0\n",
    "    for i in range(n):\n",
    "        flip_result = coin_flip()\n",
    "        results = results + flip_result\n",
    "        \n",
    "        #Calculating probability value:\n",
    "        prob_value = results/(i+1)\n",
    "        \n",
    "        #Append the probability values to the list:\n",
    "        list1.append(prob_value)\n",
    "        \n",
    "        #Plot the results:\n",
    "        plt.axhline(y=0.5, color='r', linestyle='-')\n",
    "        plt.xlabel(\"Iterations\")\n",
    "        plt.ylabel(\"Probability\")\n",
    "        plt.plot(list1)\n",
    "        \n",
    "    return results/n\n",
    "\n",
    "\n",
    "#Calling the function:\n",
    "\n",
    "answer = monte_carlo(2000) #This can also be another number such as 5000\n",
    "print(\"Final value:\", answer)\n",
    "        "
   ]
  },
  {
   "cell_type": "markdown",
   "metadata": {},
   "source": [
    "### Monty Hall problem"
   ]
  },
  {
   "cell_type": "markdown",
   "metadata": {},
   "source": [
    "What is the Monty Hall problem?\n",
    "\n",
    "Imagine you are in a game show in which you can pick one of three doors: \n",
    "1. Behind one door is a car; \n",
    "2. behind the other doors, goats. \n",
    "\n",
    "You pick a door (e.g., door 1), and the host, who knows what’s behind the doors, opens another door, (e.g., door 3), which has a goat. The host then asks you: do you want to stick with your choice or choose another door?\n",
    "\n",
    "The problem is this: Is it to your advantage to switch your choice of door?\n",
    "\n",
    "Based on probability, it turns out it is to our advantage to switch the doors. But how and why? Let’s find out.\n",
    "\n",
    "\n",
    "Essentially, after the host opens door 3, the probability of the last two doors of having a car increases to 2/3. Now we know that the third door has a goat, the probability of the second door having a car increases to 2/3. Hence, it is more advantageous to switch the doors.\n",
    "\n",
    "Let's implement this scenario in Python."
   ]
  },
  {
   "cell_type": "code",
   "execution_count": 13,
   "metadata": {},
   "outputs": [
    {
     "name": "stdout",
     "output_type": "stream",
     "text": [
      "Winning probability if you always switch: 0.657\n",
      "Winning probability if you always stick to your original choice: 0.343\n"
     ]
    },
    {
     "data": {
      "image/png": "[encoded data removed]",
      "text/plain": [
       "<Figure size 432x288 with 1 Axes>"
      ]
     },
     "metadata": {},
     "output_type": "display_data"
    }
   ],
   "source": [
    "import random\n",
    "import matplotlib.pyplot as plt\n",
    "\n",
    "#1 - Car\n",
    "#2 - Goats\n",
    "doors = [\"goat\", \"goat\", \"car\"]\n",
    "\n",
    "#Empty lists to store probability values:\n",
    "switch_win_probability = []\n",
    "stick_win_probability = []\n",
    "\n",
    "plt.axhline(y=0.66666, color='r', linestyle='-')\n",
    "plt.axhline(y=0.33333, color='g', linestyle='-')\n",
    "\n",
    "#Monte Carlo Simulation\n",
    "def monte_carlo(n):\n",
    "    #calculating switch and stick wins:\n",
    "    switch_wins = 0\n",
    "    stick_wins = 0\n",
    "    \n",
    "    for i in range(n):\n",
    "        \n",
    "        \n",
    "        #Randomly placing the car and goats behind the three doors:\n",
    "        random.shuffle(doors)\n",
    "\n",
    "        #contestant's choice:\n",
    "        k = random.randrange(2)\n",
    "\n",
    "        #If the contestant doesn't get car:\n",
    "        if doors[k] != 'car':\n",
    "            switch_wins += 1\n",
    "\n",
    "        #If  the contestant got car:\n",
    "        else:\n",
    "            stick_wins += 1\n",
    "\n",
    "        #Updating the list values:\n",
    "        switch_win_probability.append(switch_wins/(i+1))\n",
    "        stick_win_probability.append(stick_wins/(i+1))\n",
    "\n",
    "        #Plotting the data\n",
    "        plt.plot(switch_win_probability)\n",
    "        plt.plot(stick_win_probability)\n",
    "\n",
    "    #Print the probability values\n",
    "    print('Winning probability if you always switch:', switch_win_probability[-1])\n",
    "    print('Winning probability if you always stick to your original choice:', stick_win_probability[-1])\n",
    "\n",
    "\n",
    "monte_carlo(1000)"
   ]
  },
  {
   "cell_type": "markdown",
   "metadata": {},
   "source": [
    "In the figure above, after 1000 iterations, the winning probability for switching the door is 0.66. Thus, we are confident that it works to our advantage to switch the door -- at least, in this example."
   ]
  },
  {
   "cell_type": "markdown",
   "metadata": {},
   "source": [
    "Useful resources:\n",
    "- https://pbpython.com/monte-carlo.html\n",
    "- https://pub.towardsai.net/monte-carlo-simulation-an-in-depth-tutorial-with-python-bcf6eb7856c8"
   ]
  }
 ],
 "metadata": {
  "kernelspec": {
   "display_name": "Python 3",
   "language": "python",
   "name": "python3"
  },
  "language_info": {
   "codemirror_mode": {
    "name": "ipython",
    "version": 3
   },
   "file_extension": ".py",
   "mimetype": "text/x-python",
   "name": "python",
   "nbconvert_exporter": "python",
   "pygments_lexer": "ipython3",
   "version": "3.7.9"
  }
 },
 "nbformat": 4,
 "nbformat_minor": 4
}
